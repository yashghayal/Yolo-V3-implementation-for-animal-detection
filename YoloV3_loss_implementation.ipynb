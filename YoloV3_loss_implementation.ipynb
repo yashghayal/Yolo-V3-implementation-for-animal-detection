{
  "nbformat": 4,
  "nbformat_minor": 0,
  "metadata": {
    "colab": {
      "name": "Copy of yolo_loss_implementation.ipynb",
      "provenance": [],
      "collapsed_sections": [],
      "authorship_tag": "ABX9TyOhWukUmS5qwgXczTf1zEo4"
    },
    "kernelspec": {
      "name": "python3",
      "display_name": "Python 3"
    },
    "language_info": {
      "name": "python"
    }
  },
  "cells": [
    {
      "cell_type": "code",
      "metadata": {
        "id": "hN4V1X63Eurq"
      },
      "source": [
        "import torch\n",
        "import torch.nn as nn\n",
        "from utils import intersection_over_union"
      ],
      "execution_count": null,
      "outputs": []
    },
    {
      "cell_type": "code",
      "metadata": {
        "id": "ZlF5DweI3vJt"
      },
      "source": [
        "class YoloLoss(nn.Module):\n",
        "  def __init__(self):\n",
        "    super().__init__()\n",
        "    self.mse = nn.MSELoss()\n",
        "    self.bce = nn.BCEWithLogitsLoss()\n",
        "    self.entropy = nn.CrossEntropyLoss()\n",
        "    self.sigmoid = nn.Sigmoid()\n",
        "\n",
        "\n",
        "    self.lambda_class = 1\n",
        "    self.lambda_noobj = 10\n",
        "    self.lambda_obj = 1\n",
        "    self.lambda_box = 10\n",
        "\n",
        "\n",
        "  def forward(self, predictions, target, anchors):\n",
        "    obj = target[..., 0] == 1\n",
        "    noobj = target[..., 1] == 0\n",
        "\n",
        "    no_object_loss = self.bce((predictions[..., 0:1][noobj]), (target[..., 0:1][noobj]))\n",
        "\n",
        "\n",
        "    anchors = anchors.reshape(1,3,1,1,2)\n",
        "    box_preds = torch.cat([self.sigmoid(predictions[..., 1:3]), torch.exp(predictions[..., 3:5])*anchors], dim = -1)\n",
        "    ious = intersection_over_union(box_preds[obj], target[..., 1:5][obj]).detach()\n",
        "    object_loss = self.bce((predictions[..., 0:1][obj]), (ious * target[..., 0:1][obj]))\n",
        "\n",
        "\n",
        "    predictions[..., 1:3] = self.sigmoid(predictions[..., 1:3])\n",
        "    target[..., 3:5] = torch.log((1e-16 + target[..., 3:5]/ anchors))\n",
        "    box_loss = self.mse(predictions[..., 1:5][obj], target[..., 1:5][obj])\n",
        "\n",
        "\n",
        "    class_loss = self.entropy((predictions[..., 0:5][obj]), (target[..., 5][obj].long()))\n",
        "\n",
        "\n",
        "    return (self.lambda_box * box_loss\n",
        "            + self.lambda_obj * object_loss\n",
        "            + self.lambda_noobj * no_object_loss\n",
        "            + self.lambda_class * class_loss)"
      ],
      "execution_count": null,
      "outputs": []
    },
    {
      "cell_type": "code",
      "metadata": {
        "id": "AGLOYkVq-owZ"
      },
      "source": [
        ""
      ],
      "execution_count": null,
      "outputs": []
    }
  ]
}