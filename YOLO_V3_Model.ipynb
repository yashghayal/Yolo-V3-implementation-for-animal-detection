{
  "nbformat": 4,
  "nbformat_minor": 0,
  "metadata": {
    "colab": {
      "name": "Copy of YOLO_V3(Model).ipynb",
      "provenance": [],
      "collapsed_sections": [],
      "mount_file_id": "1C_NyTfcYxvWRbA6BQ5xR6CG5Jxw408xP",
      "authorship_tag": "ABX9TyPuGeBrkkaCTDVm8wQ6cEkk"
    },
    "kernelspec": {
      "name": "python3",
      "display_name": "Python 3"
    },
    "language_info": {
      "name": "python"
    }
  },
  "cells": [
    {
      "cell_type": "code",
      "metadata": {
        "id": "EvBSsH8blIQ4"
      },
      "source": [
        "import torch\n",
        "import torch.nn as nn\n",
        "import sys\n",
        "sys.path.append('/content/drive/MyDrive/Colab Notebooks')\n",
        "import utils\n",
        "\n"
      ],
      "execution_count": null,
      "outputs": []
    },
    {
      "cell_type": "code",
      "metadata": {
        "id": "28oI66-fKXJt"
      },
      "source": [
        "config = [\n",
        "          (32,3,1),\n",
        "          (64,3,2),\n",
        "          [\"B\",1], \n",
        "          (128,3,2),\n",
        "          [\"B\", 2],\n",
        "          (256,3,2),\n",
        "          [\"B\", 8],\n",
        "          (512,3,2),\n",
        "          [\"B\", 8],\n",
        "          (1024,3,2),\n",
        "          [\"B\", 4],\n",
        "          (512,1,1),\n",
        "          (1024,3,1),\n",
        "          \"S\",\n",
        "          (256,1,1),\n",
        "          \"U\",\n",
        "          (256,1,1),\n",
        "          (512,3,1),\n",
        "          \"S\",\n",
        "          (128,1,1),\n",
        "          \"U\",\n",
        "          (128,1,1),\n",
        "          (256,3,1),\n",
        "          \"S\",\n",
        "]"
      ],
      "execution_count": null,
      "outputs": []
    },
    {
      "cell_type": "code",
      "metadata": {
        "id": "IbRORkdfG0p5"
      },
      "source": [
        "class CNNBlock(nn.Module):\n",
        "  def __init__(self, in_channels, out_channels, bn_act = 'True', **kwargs):\n",
        "    super().__init__()\n",
        "    self.conv = nn.Conv2d(in_channels, out_channels, bias = not bn_act, **kwargs)\n",
        "    self.bn = nn.BatchNorm2d(out_channels)\n",
        "    self.leaky = nn.LeakyReLU(0.1)\n",
        "    self.use_bn_act = bn_act\n",
        "\n",
        "  def forward(self,x):\n",
        "    if self.use_bn_act:\n",
        "      return self.leaky(self.bn(self.Conv(x)))\n",
        "    else:\n",
        "      self.conv(x)"
      ],
      "execution_count": null,
      "outputs": []
    },
    {
      "cell_type": "code",
      "metadata": {
        "id": "IggsOmzz9SjR"
      },
      "source": [
        "class ResidualBlock(nn.Module):\n",
        "  def __init__(self_channels, use_residual = True, num_repeats = 1):\n",
        "      super().__init__()\n",
        "      self.layers = nn.ModuleList()\n",
        "      for repeat in range(num_repeats):\n",
        "        self.layers += Sequential([CNNBlock(channels, channels/2, kernel_size = 1),\n",
        "                                   CNNBlock(channels/2, channels, kernel_size = 3, padding =1)])\n",
        "\n",
        "      self.use_residual = use_residual\n",
        "      self.num_repeats = num_repeats\n",
        "\n",
        "  def forward(self, x):\n",
        "    for layer in self.layers:\n",
        "      if self.use_residual:\n",
        "        x = layer(x) + x\n",
        "      else:\n",
        "        x = layer(x)\n",
        "      return x"
      ],
      "execution_count": null,
      "outputs": []
    },
    {
      "cell_type": "code",
      "metadata": {
        "id": "eNUmec9N92pW"
      },
      "source": [
        "class Scale_Prediction(nn.Module):\n",
        "  def __init__(self, in_channels, num_classes):\n",
        "    super().__init__()\n",
        "    self.pred = nn.Sequential(CNNBlock(in_channels, 2 * in_channels, kernel_size = 3, padding = 1),\n",
        "                              CNNBlock(2* in_channels, 3 * (num_classes+5), bn_act = False, kernel_size = 1))\n",
        "    \n",
        "    self.num_classes = num_classes\n",
        "\n",
        "  def forward(self, x):\n",
        "    return(self_pred(x).reshape(x.shape[0], 3, self.num_classes+5, x.shape[2], x.shape[3]).permute(0,1,3,4,2))\n"
      ],
      "execution_count": null,
      "outputs": []
    },
    {
      "cell_type": "code",
      "metadata": {
        "id": "KN5w35an3Ogd"
      },
      "source": [
        "class YoloV3(nn.Module):\n",
        "  def __init__(self, in_channels = 3, num_channels = 20):\n",
        "    super().__init__()\n",
        "    self.num_classes = num_classes\n",
        "    self.in_channels = in_channels\n",
        "    self.layers = self._create_conv_layers()\n",
        "\n",
        "\n",
        "\n",
        "\n",
        "  def forward(self, x):\n",
        "    outputs = []\n",
        "    route_connections = []\n",
        "\n",
        "    for layer in self.layers:\n",
        "      if isinstance(layer, Scale_Prediction):\n",
        "        outputs.append(layer(x))\n",
        "        continue\n",
        "      x = layer(x)\n",
        "\n",
        "      if isinstance(layer, ResidualBlock) and num_repeats == 8:\n",
        "        route_connections.append(x)\n",
        "\n",
        "      elif isinstance(layer, nn.Upsample):\n",
        "        x = torch.cat([x, route_connections[-1]], dim = 1)\n",
        "        route_connections.pop()\n",
        "    return outputs\n",
        "\n",
        "\n",
        "      \n",
        "\n",
        "  def _create_conv_layers(self):\n",
        "    layers = nn.ModuleList()\n",
        "    in_channels = self.in_channels\n",
        "\n",
        "    for module in config:\n",
        "      if isinstance(module, tuple):\n",
        "        out_channels, kernel_size, stride = module\n",
        "        layers.append(CNNBlock(in_channels, out_channels, kernel_size= kernel_size, stride= stride, padding = 1 if kernel_size == 3 else 0))\n",
        "        in_channels = out_channels\n",
        "\n",
        "      elif isinstance(module, list):\n",
        "        num_repeats = module[1]\n",
        "        layers.append(ResidualBlock(in_channels, num_repeats= num_repeats))\n",
        "\n",
        "      elif isinstance(module, str):\n",
        "        if module == \"S\":\n",
        "          layers += [ResidualBlock(in_channels, use_residual= False, num_repeats=1),\n",
        "                     CNNBlock(in_channels, in_channels/2, kernel_size = 1),\n",
        "                     Scale_Prediction(in_channels/2, num_classes= self.num_classes)\n",
        "                    ]\n",
        "          in_channels = in_channels/2\n",
        "                    \n",
        "        elif module == \"U\":\n",
        "          layers.append(nn.Upsample(scale_factor = 2))\n",
        "          in_channels = in_channels * 3\n",
        "    return layers\n",
        "          \n",
        "\n",
        "\n"
      ],
      "execution_count": null,
      "outputs": []
    },
    {
      "cell_type": "code",
      "metadata": {
        "id": "6i_TTiI_biyG"
      },
      "source": [
        ""
      ],
      "execution_count": null,
      "outputs": []
    }
  ]
}
