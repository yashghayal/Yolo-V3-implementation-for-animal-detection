{
  "nbformat": 4,
  "nbformat_minor": 0,
  "metadata": {
    "colab": {
      "name": "Copy of config_yolo.ipynb",
      "provenance": [],
      "collapsed_sections": [],
      "authorship_tag": "ABX9TyM+cjzvHBX4UOxICQvWYqdh"
    },
    "kernelspec": {
      "name": "python3",
      "display_name": "Python 3"
    },
    "language_info": {
      "name": "python"
    }
  },
  "cells": [
    {
      "cell_type": "code",
      "metadata": {
        "id": "gVlFU4dCCfIO"
      },
      "source": [
        "import albumentations as A\n",
        "import cv2\n",
        "import torch\n",
        "\n",
        "from albumentations.pytorch import ToTensorV2"
      ],
      "execution_count": null,
      "outputs": []
    },
    {
      "cell_type": "code",
      "metadata": {
        "id": "snyMZmGcCpfU"
      },
      "source": [
        "DATASET = 'PASCAL_VOC'\n",
        "DEVICE = \"cuda\" if torch.cuda.is_available() else \"cpu\"\n",
        "\n",
        "NUM_WORKERS = 4\n",
        "BATCH_SIZE = 32\n",
        "IMAGE_SIZE = 416\n",
        "NUM_CLASSES = 20\n",
        "LEARNING_RATE = 3e-4   #1e-5\n",
        "WEIGHT_DECAY = 0       #1e-4\n",
        "NUM_EPOCHS = 100\n",
        "CONF_THRESHOLD = 0.4\n",
        "MAP_IOU_THRESH = 0.5\n",
        "NMS_IOU_THRESH = 0.45\n",
        "S = [IMAGE_SIZE // 32, IMAGE_SIZE // 16, IMAGE_SIZE // 8]\n",
        "PIN_MEMORY = True\n",
        "LOAD_MODEL = False\n",
        "SAVE_MODEL = False\n",
        "CHECKPOINT_FILE = \"checkpoint.pth.tar\"\n",
        "IMG_DIR = DATASET + \"/images/\"\n",
        "LABEL_DIR = DATASET + \"/labels/\"\n",
        "\n",
        "ANCHORS = [\n",
        "    [(0.28, 0.22), (0.38, 0.48), (0.9, 0.78)],\n",
        "    [(0.07, 0.15), (0.15, 0.11), (0.14, 0.29)],\n",
        "    [(0.02, 0.03), (0.04, 0.07), (0.08, 0.06)],\n",
        "]\n",
        "\n",
        "\n",
        "scale = 1.1\n",
        "train_transforms = A.Compose(\n",
        "    [\n",
        "        A.LongestMaxSize(max_size=int(IMAGE_SIZE * scale)),\n",
        "        A.PadIfNeeded(\n",
        "            min_height=int(IMAGE_SIZE * scale),\n",
        "            min_width=int(IMAGE_SIZE * scale),\n",
        "            border_mode=cv2.BORDER_CONSTANT,\n",
        "        ),\n",
        "        A.RandomCrop(width=IMAGE_SIZE, height=IMAGE_SIZE),\n",
        "        A.ColorJitter(brightness=0.6, contrast=0.6, saturation=0.6, hue=0.6, p=0.4),\n",
        "        A.OneOf(\n",
        "            [\n",
        "                A.ShiftScaleRotate(\n",
        "                    rotate_limit=20, p=0.5, border_mode=cv2.BORDER_CONSTANT\n",
        "                ),\n",
        "                A.IAAAffine(shear=15, p=0.5, mode=\"constant\"),\n",
        "            ],\n",
        "            p=1.0,\n",
        "        ),\n",
        "        A.HorizontalFlip(p=0.5),\n",
        "        A.Blur(p=0.1),\n",
        "        A.CLAHE(p=0.1),\n",
        "        A.Posterize(p=0.1),\n",
        "        A.ToGray(p=0.1),\n",
        "        A.ChannelShuffle(p=0.05),\n",
        "        A.Normalize(mean=[0, 0, 0], std=[1, 1, 1], max_pixel_value=255,),\n",
        "        ToTensorV2(),\n",
        "    ],\n",
        "    bbox_params=A.BboxParams(format=\"yolo\", min_visibility=0.4, label_fields=[],),\n",
        ")\n",
        "test_transforms = A.Compose(\n",
        "    [\n",
        "        A.LongestMaxSize(max_size=IMAGE_SIZE),\n",
        "        A.PadIfNeeded(\n",
        "            min_height=IMAGE_SIZE, min_width=IMAGE_SIZE, border_mode=cv2.BORDER_CONSTANT\n",
        "        ),\n",
        "        A.Normalize(mean=[0, 0, 0], std=[1, 1, 1], max_pixel_value=255,),\n",
        "        ToTensorV2(),\n",
        "    ],\n",
        "    bbox_params=A.BboxParams(format=\"yolo\", min_visibility=0.4, label_fields=[]),\n",
        ")\n",
        "\n",
        "\n",
        "\n"
      ],
      "execution_count": null,
      "outputs": []
    },
    {
      "cell_type": "code",
      "metadata": {
        "id": "w4eW0kMdC3ov"
      },
      "source": [
        "PASCAL_CLASSES = [\n",
        "    \"aeroplane\",\n",
        "    \"bicycle\",\n",
        "    \"bird\",\n",
        "    \"boat\",\n",
        "    \"bottle\",\n",
        "    \"bus\",\n",
        "    \"car\",\n",
        "    \"cat\",\n",
        "    \"chair\",\n",
        "    \"cow\",\n",
        "    \"diningtable\",\n",
        "    \"dog\",\n",
        "    \"horse\",\n",
        "    \"motorbike\",\n",
        "    \"person\",\n",
        "    \"pottedplant\",\n",
        "    \"sheep\",\n",
        "    \"sofa\",\n",
        "    \"train\",\n",
        "    \"tvmonitor\"\n",
        "]"
      ],
      "execution_count": null,
      "outputs": []
    },
    {
      "cell_type": "code",
      "metadata": {
        "id": "8meU2Ky2C-rK"
      },
      "source": [
        ""
      ],
      "execution_count": null,
      "outputs": []
    }
  ]
}